{
 "cells": [
  {
   "cell_type": "code",
   "execution_count": 1,
   "id": "ef331c08",
   "metadata": {},
   "outputs": [
    {
     "name": "stdout",
     "output_type": "stream",
     "text": [
      "<class 'list'>\n",
      "94.4\n",
      "95.2\n",
      "5\n"
     ]
    }
   ],
   "source": [
    "marks = [94.4, 87.5, 95.2, 66.4, 45.1]\n",
    "print(type(marks))\n",
    "print(marks[0])\n",
    "print(marks[2])\n",
    "print(len(marks))"
   ]
  },
  {
   "cell_type": "code",
   "execution_count": 2,
   "id": "88788989",
   "metadata": {},
   "outputs": [
    {
     "name": "stdout",
     "output_type": "stream",
     "text": [
      "['bilal', 95.5, 17, 'Karachi']\n",
      "['Bilal', 95.5, 17, 'Karachi']\n"
     ]
    }
   ],
   "source": [
    "student = [\"bilal\",95.5,17,\"Karachi\"]\n",
    "print(student)\n",
    "student[0] = \"Bilal\"\n",
    "print(student)"
   ]
  },
  {
   "cell_type": "code",
   "execution_count": 3,
   "id": "af4fdd14",
   "metadata": {},
   "outputs": [
    {
     "name": "stdout",
     "output_type": "stream",
     "text": [
      "[64, 33, 95]\n",
      "[87, 64, 33, 95]\n",
      "[64, 33, 95, 74]\n",
      "[64, 33, 95, 74]\n",
      "[33, 95]\n"
     ]
    }
   ],
   "source": [
    "marks = [87, 64, 33, 95, 74]\n",
    "print(marks[1:4])\n",
    "print(marks[:4])\n",
    "print(marks[1:])\n",
    "print(marks[1:len(marks)])\n",
    "print(marks[-3:-1])"
   ]
  },
  {
   "cell_type": "code",
   "execution_count": 4,
   "id": "46ced119",
   "metadata": {},
   "outputs": [
    {
     "name": "stdout",
     "output_type": "stream",
     "text": [
      "[2, 1, 3, 4]\n",
      "[1, 2, 3, 4]\n",
      "[4, 3, 2, 1]\n",
      "[1, 2, 3, 4]\n",
      "[4, 3, 2, 1]\n",
      "[1, 2, 3, 4, 5]\n",
      "[1, 2, 3, 5]\n",
      "[1, 2, 5]\n"
     ]
    }
   ],
   "source": [
    "list = [2, 1, 3]\n",
    "list.append(4)\n",
    "print(list)\n",
    "list.sort()\n",
    "print(list)\n",
    "list.sort(reverse=True)\n",
    "print(list)\n",
    "list.reverse()\n",
    "print(list)\n",
    "list.reverse()\n",
    "print(list)\n",
    "list.sort()\n",
    "list.insert(4,5)\n",
    "print(list)\n",
    "list.remove(4)\n",
    "print(list)\n",
    "list.pop(2)\n",
    "print(list)"
   ]
  },
  {
   "cell_type": "code",
   "execution_count": 5,
   "id": "828301d2",
   "metadata": {},
   "outputs": [
    {
     "name": "stdout",
     "output_type": "stream",
     "text": [
      "(87, 64, 33, 95, 76)\n",
      "33\n",
      "(64, 33, 95)\n"
     ]
    }
   ],
   "source": [
    "tup = (87, 64, 33, 95, 76)\n",
    "print(tup)\n",
    "print(tup[2])\n",
    "print(tup[1:4])"
   ]
  },
  {
   "cell_type": "code",
   "execution_count": 7,
   "id": "48223c51",
   "metadata": {},
   "outputs": [
    {
     "name": "stdout",
     "output_type": "stream",
     "text": [
      "0\n",
      "2\n"
     ]
    }
   ],
   "source": [
    "tup = (2, 1, 3, 1)\n",
    "print(tup.index(2))\n",
    "print(tup.count(1))"
   ]
  },
  {
   "cell_type": "code",
   "execution_count": 8,
   "id": "4f6821fc",
   "metadata": {},
   "outputs": [
    {
     "name": "stdout",
     "output_type": "stream",
     "text": [
      "Enter Your First Favorite MovieBatman\n",
      "Enter Your Second Favorite MovieDark Knight\n",
      "Enter Your Third Favorite MovieMan Of Steel\n",
      "['Batman', 'Dark Knight', 'Man Of Steel']\n"
     ]
    }
   ],
   "source": [
    "fav_mov_list = []\n",
    "fav_mov1 = input(\"Enter Your First Favorite Movie\")\n",
    "fav_mov_list.append(fav_mov1)\n",
    "fav_mov2 = input(\"Enter Your Second Favorite Movie\")\n",
    "fav_mov_list.append(fav_mov2)\n",
    "fav_mov3 = input(\"Enter Your Third Favorite Movie\")\n",
    "fav_mov_list.append(fav_mov3)\n",
    "print(fav_mov_list)"
   ]
  },
  {
   "cell_type": "code",
   "execution_count": 14,
   "id": "bfe06fc8",
   "metadata": {},
   "outputs": [
    {
     "name": "stdout",
     "output_type": "stream",
     "text": [
      "This List Is Not Palimdrome\n"
     ]
    }
   ],
   "source": [
    "list = [1, 2, 3]\n",
    "\n",
    "copy_list = list.copy()\n",
    "copy_list.reverse()\n",
    "\n",
    "if(list == copy_list):\n",
    "    print(\"This List Is Palimdrome\")\n",
    "else:\n",
    "    print(\"This List Is Not Palimdrome\")"
   ]
  },
  {
   "cell_type": "code",
   "execution_count": 22,
   "id": "0a46aa78",
   "metadata": {},
   "outputs": [
    {
     "name": "stdout",
     "output_type": "stream",
     "text": [
      "['A', 'A', 'A', 'B', 'B', 'C', 'D']\n"
     ]
    }
   ],
   "source": [
    "grade = [\"C\", \"D\", \"A\", \"A\", \"B\", \"B\", \"A\"]\n",
    "grade.sort()\n",
    "print(grade)"
   ]
  },
  {
   "cell_type": "code",
   "execution_count": null,
   "id": "9f956d0f",
   "metadata": {},
   "outputs": [],
   "source": []
  },
  {
   "cell_type": "code",
   "execution_count": null,
   "id": "2268e0b8",
   "metadata": {},
   "outputs": [],
   "source": []
  }
 ],
 "metadata": {
  "kernelspec": {
   "display_name": "Python 3 (ipykernel)",
   "language": "python",
   "name": "python3"
  },
  "language_info": {
   "codemirror_mode": {
    "name": "ipython",
    "version": 3
   },
   "file_extension": ".py",
   "mimetype": "text/x-python",
   "name": "python",
   "nbconvert_exporter": "python",
   "pygments_lexer": "ipython3",
   "version": "3.11.5"
  }
 },
 "nbformat": 4,
 "nbformat_minor": 5
}
