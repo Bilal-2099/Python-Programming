{
 "cells": [
  {
   "cell_type": "code",
   "execution_count": 1,
   "id": "a9820325",
   "metadata": {},
   "outputs": [
    {
     "name": "stdout",
     "output_type": "stream",
     "text": [
      "This string is used as variable. \n",
      "For using in next line.\n"
     ]
    }
   ],
   "source": [
    "str = \"This string is used as variable. \\nFor using in next line.\"\n",
    "print(str)"
   ]
  },
  {
   "cell_type": "code",
   "execution_count": 2,
   "id": "f548d0cb",
   "metadata": {},
   "outputs": [
    {
     "name": "stdout",
     "output_type": "stream",
     "text": [
      "This string is used as variable. \tFor using in Tab\n"
     ]
    }
   ],
   "source": [
    "str = \"This string is used as variable. \\tFor using in Tab\"\n",
    "print(str)"
   ]
  },
  {
   "cell_type": "code",
   "execution_count": 3,
   "id": "4a16599b",
   "metadata": {},
   "outputs": [
    {
     "name": "stdout",
     "output_type": "stream",
     "text": [
      "HelloWorld\n",
      "HelloWorld\n"
     ]
    }
   ],
   "source": [
    "print(\"Hello\" + \"World\")\n",
    "str1 = \"Hello\"\n",
    "str2 = \"World\"\n",
    "final_str = str1 + str2\n",
    "print(final_str)"
   ]
  },
  {
   "cell_type": "code",
   "execution_count": 4,
   "id": "b8309e7e",
   "metadata": {},
   "outputs": [
    {
     "name": "stdout",
     "output_type": "stream",
     "text": [
      "5\n"
     ]
    }
   ],
   "source": [
    "len1 = len(str1)\n",
    "print(len1)"
   ]
  },
  {
   "cell_type": "code",
   "execution_count": 5,
   "id": "fa717c9c",
   "metadata": {},
   "outputs": [
    {
     "name": "stdout",
     "output_type": "stream",
     "text": [
      "Hello World\n"
     ]
    }
   ],
   "source": [
    "print(\"Hello\" + \" \" + \"World\")"
   ]
  },
  {
   "cell_type": "code",
   "execution_count": 6,
   "id": "9598d9db",
   "metadata": {},
   "outputs": [
    {
     "name": "stdout",
     "output_type": "stream",
     "text": [
      "H\n",
      "l\n"
     ]
    }
   ],
   "source": [
    "str = \"Hello World\"\n",
    "ch = str[0]\n",
    "print(ch)\n",
    "print(str[3])"
   ]
  },
  {
   "cell_type": "code",
   "execution_count": 7,
   "id": "c939c59b",
   "metadata": {},
   "outputs": [
    {
     "name": "stdout",
     "output_type": "stream",
     "text": [
      "ell\n"
     ]
    }
   ],
   "source": [
    "str = \"Hello World\"\n",
    "print(str[1:4])"
   ]
  },
  {
   "cell_type": "code",
   "execution_count": 8,
   "id": "a5570ce2",
   "metadata": {},
   "outputs": [
    {
     "name": "stdout",
     "output_type": "stream",
     "text": [
      "World\n"
     ]
    }
   ],
   "source": [
    "str = \"Hello World\"\n",
    "print(str[6:11])"
   ]
  },
  {
   "cell_type": "code",
   "execution_count": 9,
   "id": "71d3ac23",
   "metadata": {},
   "outputs": [
    {
     "name": "stdout",
     "output_type": "stream",
     "text": [
      "World\n"
     ]
    }
   ],
   "source": [
    "str = \"Hello World\"\n",
    "print(str[6:len(str)])"
   ]
  },
  {
   "cell_type": "code",
   "execution_count": 10,
   "id": "51658942",
   "metadata": {},
   "outputs": [
    {
     "name": "stdout",
     "output_type": "stream",
     "text": [
      "ello World\n"
     ]
    }
   ],
   "source": [
    "str = \"Hello World\"\n",
    "print(str[1:])"
   ]
  },
  {
   "cell_type": "code",
   "execution_count": 11,
   "id": "15778ad4",
   "metadata": {},
   "outputs": [
    {
     "name": "stdout",
     "output_type": "stream",
     "text": [
      "pl\n"
     ]
    }
   ],
   "source": [
    "str = \"Apple\"\n",
    "print(str[-3:-1])"
   ]
  },
  {
   "cell_type": "code",
   "execution_count": 12,
   "id": "d3c3707f",
   "metadata": {},
   "outputs": [
    {
     "name": "stdout",
     "output_type": "stream",
     "text": [
      "True\n"
     ]
    }
   ],
   "source": [
    "str = \"I am a coder.\"\n",
    "print(str.endswith(\"er.\"))"
   ]
  },
  {
   "cell_type": "code",
   "execution_count": 13,
   "id": "9b183ebe",
   "metadata": {},
   "outputs": [
    {
     "name": "stdout",
     "output_type": "stream",
     "text": [
      "I am a coder.\n",
      "i am a coder.\n"
     ]
    }
   ],
   "source": [
    "str = \"i am a coder.\"\n",
    "print(str.capitalize())\n",
    "print(str)"
   ]
  },
  {
   "cell_type": "code",
   "execution_count": 14,
   "id": "cdd7c234",
   "metadata": {},
   "outputs": [
    {
     "name": "stdout",
     "output_type": "stream",
     "text": [
      "I am a coder.\n"
     ]
    }
   ],
   "source": [
    "str = \"i am a coder.\"\n",
    "str = str.capitalize()\n",
    "print(str)"
   ]
  },
  {
   "cell_type": "code",
   "execution_count": 15,
   "id": "5b144862",
   "metadata": {},
   "outputs": [
    {
     "name": "stdout",
     "output_type": "stream",
     "text": [
      "i om o coder.\n"
     ]
    }
   ],
   "source": [
    "str = \"i am a coder.\"\n",
    "print(str.replace(\"a\",\"o\"))"
   ]
  },
  {
   "cell_type": "code",
   "execution_count": 16,
   "id": "1ef533f7",
   "metadata": {},
   "outputs": [
    {
     "name": "stdout",
     "output_type": "stream",
     "text": [
      "7\n"
     ]
    }
   ],
   "source": [
    "str = \"i am a coder.\"\n",
    "print(str.find(\"coder\"))"
   ]
  },
  {
   "cell_type": "code",
   "execution_count": 17,
   "id": "e859ed3e",
   "metadata": {},
   "outputs": [
    {
     "name": "stdout",
     "output_type": "stream",
     "text": [
      "1\n"
     ]
    }
   ],
   "source": [
    "str = \"i am a coder.\"\n",
    "print(str.count(\"am\"))"
   ]
  },
  {
   "cell_type": "code",
   "execution_count": 18,
   "id": "574f0ee6",
   "metadata": {},
   "outputs": [
    {
     "name": "stdout",
     "output_type": "stream",
     "text": [
      "Write anythingBilal\n",
      "Length of Your Word 5\n"
     ]
    }
   ],
   "source": [
    "count = input(\"Write anything\")\n",
    "print(\"Length of Your Word\",len(count))"
   ]
  },
  {
   "cell_type": "code",
   "execution_count": 19,
   "id": "6a8faaab",
   "metadata": {},
   "outputs": [
    {
     "name": "stdout",
     "output_type": "stream",
     "text": [
      "3\n"
     ]
    }
   ],
   "source": [
    "str = \"Hi , $I am the $ symbol $1\"\n",
    "print(str.count(\"$\"))"
   ]
  },
  {
   "cell_type": "code",
   "execution_count": 5,
   "id": "aa513eaf",
   "metadata": {},
   "outputs": [
    {
     "name": "stdout",
     "output_type": "stream",
     "text": [
      "Enter Your Age56\n",
      "Paisa Kama, Kaam Kar\n"
     ]
    }
   ],
   "source": [
    "age = int(input(\"Enter Your Age\"))\n",
    "\n",
    "if(age>=60):\n",
    "    print(\"Zindagi Jeeli Ab Jaane Ki Tayari Kar\")\n",
    "elif(age>=18):\n",
    "    print(\"Paisa Kama, Kaam Kar\")\n",
    "elif(age>=15):\n",
    "    print(\"Kuch Saal Wait Kar\")\n",
    "else:\n",
    "    print(\"Bachpan Ke Maaze Kar\")"
   ]
  },
  {
   "cell_type": "code",
   "execution_count": 12,
   "id": "74b25e99",
   "metadata": {},
   "outputs": [
    {
     "name": "stdout",
     "output_type": "stream",
     "text": [
      "Enter Your Marks99\n",
      "A+\n"
     ]
    }
   ],
   "source": [
    "Marks = int(input(\"Enter Your Marks\"))\n",
    "\n",
    "if(Marks>=80):\n",
    "    print(\"A+\")\n",
    "elif(Marks>=70 and Marks<80):\n",
    "    print(\"A\")\n",
    "elif(Marks>=60 and Marks<70):\n",
    "    print(\"B\")\n",
    "elif(Marks>=50 and Marks<60):\n",
    "    print(\"C\")\n",
    "elif(Marks>=40 and Marks<50):\n",
    "    print(\"D\")\n",
    "else:\n",
    "    print(\"Fail\")"
   ]
  },
  {
   "cell_type": "code",
   "execution_count": 14,
   "id": "387a4195",
   "metadata": {},
   "outputs": [
    {
     "name": "stdout",
     "output_type": "stream",
     "text": [
      "Enter Your Age65\n",
      "Gaadi Nahi Chaala, Warna Khud Chala Jayega\n"
     ]
    }
   ],
   "source": [
    "age = int(input(\"Enter Your Age\"))\n",
    "\n",
    "if(age>=18):\n",
    "    if(age >=60):\n",
    "        print(\"Gaadi Nahi Chaala, Warna Khud Chala Jayega\")\n",
    "    else:\n",
    "        print(\"Gaadi Chaale\")\n",
    "else:\n",
    "    print(\"Gaadi Chaalene Ki Soochena Bhi Nahi\")"
   ]
  },
  {
   "cell_type": "code",
   "execution_count": 17,
   "id": "f62dc9f0",
   "metadata": {},
   "outputs": [
    {
     "name": "stdout",
     "output_type": "stream",
     "text": [
      "Enter Your Number2\n",
      "Your Number Is Even\n"
     ]
    }
   ],
   "source": [
    "num1 = int(input(\"Enter Your Number\"))\n",
    "\n",
    "if(num1%2 == 0):\n",
    "    print(\"Your Number Is Even\")\n",
    "else:\n",
    "    print(\"Your Number Is Odd\")"
   ]
  },
  {
   "cell_type": "code",
   "execution_count": 26,
   "id": "1bea4edb",
   "metadata": {},
   "outputs": [
    {
     "name": "stdout",
     "output_type": "stream",
     "text": [
      "Enter A Number4\n",
      "Enter B Number5\n",
      "Enter C Number6\n",
      "Enter D Number7\n",
      "7 Is Greater Number\n"
     ]
    }
   ],
   "source": [
    "A = int(input(\"Enter A Number\"))\n",
    "B = int(input(\"Enter B Number\"))\n",
    "C = int(input(\"Enter C Number\"))\n",
    "D = int(input(\"Enter D Number\"))\n",
    "\n",
    "if(A>B and A>C and A>D):\n",
    "    print(A,\"Is Greater Number\")\n",
    "elif(B>A and B>C and B>D):\n",
    "    print(B,\"is Greater Number\")\n",
    "elif(C>B and C>A and C>D):\n",
    "    print(C,\"is Greater Number\")\n",
    "else:\n",
    "    print(D,\"Is Greater Number\")"
   ]
  },
  {
   "cell_type": "code",
   "execution_count": 28,
   "id": "1cc1e3ad",
   "metadata": {},
   "outputs": [
    {
     "name": "stdout",
     "output_type": "stream",
     "text": [
      "Enter Number23\n",
      "23 Cannot Be Multiplied By 7\n"
     ]
    }
   ],
   "source": [
    "num = int(input(\"Enter Number\"))\n",
    "\n",
    "if(num%7 == 0):\n",
    "    print(num,\"Can Be Multiplied By 7\")\n",
    "else:\n",
    "    print(num,\"Cannot Be Multiplied By 7\")"
   ]
  },
  {
   "cell_type": "code",
   "execution_count": null,
   "id": "7e28359d",
   "metadata": {},
   "outputs": [],
   "source": []
  }
 ],
 "metadata": {
  "kernelspec": {
   "display_name": "Python 3 (ipykernel)",
   "language": "python",
   "name": "python3"
  },
  "language_info": {
   "codemirror_mode": {
    "name": "ipython",
    "version": 3
   },
   "file_extension": ".py",
   "mimetype": "text/x-python",
   "name": "python",
   "nbconvert_exporter": "python",
   "pygments_lexer": "ipython3",
   "version": "3.11.5"
  }
 },
 "nbformat": 4,
 "nbformat_minor": 5
}
