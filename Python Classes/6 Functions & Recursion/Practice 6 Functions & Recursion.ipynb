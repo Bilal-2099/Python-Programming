{
 "cells": [
  {
   "cell_type": "code",
   "execution_count": 5,
   "id": "fae9b012",
   "metadata": {},
   "outputs": [
    {
     "name": "stdout",
     "output_type": "stream",
     "text": [
      "5\n",
      "33\n"
     ]
    }
   ],
   "source": [
    "def sum(a, b):\n",
    "    s =a + b \n",
    "    return s\n",
    "\n",
    "print(sum(2, 3))\n",
    "print(sum(10, 23))"
   ]
  },
  {
   "cell_type": "code",
   "execution_count": 6,
   "id": "202ef840",
   "metadata": {},
   "outputs": [
    {
     "name": "stdout",
     "output_type": "stream",
     "text": [
      "Enter a Number2\n",
      "Enter a Number Again3\n",
      "5\n"
     ]
    }
   ],
   "source": [
    "a = int(input(\"Enter a Number\"))\n",
    "b = int(input(\"Enter a Number Again\"))\n",
    "print(sum(a, b))"
   ]
  },
  {
   "cell_type": "code",
   "execution_count": 7,
   "id": "d966ed93",
   "metadata": {},
   "outputs": [
    {
     "name": "stdout",
     "output_type": "stream",
     "text": [
      "3.0\n"
     ]
    }
   ],
   "source": [
    "def calc_avg(a, b, c):\n",
    "    sum = a + b + c\n",
    "    avg = sum / 3\n",
    "#     print(avg)\n",
    "    return avg\n",
    "    \n",
    "print(calc_avg(2, 3, 4))"
   ]
  },
  {
   "cell_type": "code",
   "execution_count": 8,
   "id": "838d1045",
   "metadata": {},
   "outputs": [],
   "source": [
    "def odd_or_not(a):\n",
    "    if(a %2==0):\n",
    "        print(\"This Is Even\")\n",
    "    else:\n",
    "        print(\"This Is Odd\")"
   ]
  },
  {
   "cell_type": "code",
   "execution_count": 9,
   "id": "f72baad0",
   "metadata": {},
   "outputs": [
    {
     "name": "stdout",
     "output_type": "stream",
     "text": [
      "This Is Even\n"
     ]
    }
   ],
   "source": [
    "odd_or_not(10)"
   ]
  },
  {
   "cell_type": "code",
   "execution_count": 10,
   "id": "da3f1db5",
   "metadata": {},
   "outputs": [
    {
     "name": "stdout",
     "output_type": "stream",
     "text": [
      "Hello World Bilal Raza\n"
     ]
    }
   ],
   "source": [
    "print(\"Hello World\", end=\" \")\n",
    "print(\"Bilal Raza\")"
   ]
  },
  {
   "cell_type": "code",
   "execution_count": 11,
   "id": "560a8303",
   "metadata": {},
   "outputs": [],
   "source": [
    "def calc_prod(a=2, b=4):\n",
    "    print(a * b)\n",
    "    return a * b"
   ]
  },
  {
   "cell_type": "code",
   "execution_count": 12,
   "id": "b4d6d9d3",
   "metadata": {},
   "outputs": [
    {
     "name": "stdout",
     "output_type": "stream",
     "text": [
      "8\n"
     ]
    },
    {
     "data": {
      "text/plain": [
       "8"
      ]
     },
     "execution_count": 12,
     "metadata": {},
     "output_type": "execute_result"
    }
   ],
   "source": [
    "calc_prod()"
   ]
  },
  {
   "cell_type": "code",
   "execution_count": 13,
   "id": "d957dfe0",
   "metadata": {},
   "outputs": [
    {
     "name": "stdout",
     "output_type": "stream",
     "text": [
      "6\n"
     ]
    }
   ],
   "source": [
    "list = [\"Karachi\", \"Lahore\", \"Quetta\", \"Islamanad\", \"Peshawar\", \"Rawalpindi\"]\n",
    "\n",
    "def list_len(a):\n",
    "    print(len(a))\n",
    "\n",
    "list_len(list)"
   ]
  },
  {
   "cell_type": "code",
   "execution_count": 14,
   "id": "3a4cbbcd",
   "metadata": {},
   "outputs": [
    {
     "name": "stdout",
     "output_type": "stream",
     "text": [
      "Karachi Lahore Quetta Islamanad Peshawar Rawalpindi "
     ]
    }
   ],
   "source": [
    "def print_list(list):\n",
    "    for item in list:\n",
    "        print(item, end=\" \")\n",
    "\n",
    "print_list(list)"
   ]
  },
  {
   "cell_type": "code",
   "execution_count": 22,
   "id": "909f1c28",
   "metadata": {},
   "outputs": [],
   "source": [
    "# n =5\n",
    "# fact = 1\n",
    "# for i in range(1, n+1):\n",
    "#     fact *= i\n",
    "# print(fact)\n",
    "def calc_fact(n):\n",
    "    fact = 1\n",
    "    for i in range(1, n+1):\n",
    "        fact *= i\n",
    "    print(fact)"
   ]
  },
  {
   "cell_type": "code",
   "execution_count": 24,
   "id": "1df29644",
   "metadata": {},
   "outputs": [
    {
     "name": "stdout",
     "output_type": "stream",
     "text": [
      "120\n"
     ]
    }
   ],
   "source": [
    "calc_fact(5)"
   ]
  },
  {
   "cell_type": "code",
   "execution_count": 27,
   "id": "1d5aee01",
   "metadata": {},
   "outputs": [
    {
     "name": "stdout",
     "output_type": "stream",
     "text": [
      "280\n"
     ]
    }
   ],
   "source": [
    "def conv_Doll_2_Pak(p):\n",
    "    converted_P = p*280\n",
    "    print(converted_P)\n",
    "\n",
    "conv_Doll_2_Pak(1)"
   ]
  },
  {
   "cell_type": "code",
   "execution_count": 28,
   "id": "5c7cf3f6",
   "metadata": {},
   "outputs": [],
   "source": [
    "def show(n):\n",
    "    if(n==0):\n",
    "        return\n",
    "    print(n)\n",
    "    show(n-1)"
   ]
  },
  {
   "cell_type": "code",
   "execution_count": 30,
   "id": "176418b3",
   "metadata": {},
   "outputs": [
    {
     "name": "stdout",
     "output_type": "stream",
     "text": [
      "2\n",
      "1\n"
     ]
    }
   ],
   "source": [
    "show(2)"
   ]
  },
  {
   "cell_type": "code",
   "execution_count": 34,
   "id": "a899086b",
   "metadata": {},
   "outputs": [
    {
     "data": {
      "text/plain": [
       "24"
      ]
     },
     "execution_count": 34,
     "metadata": {},
     "output_type": "execute_result"
    }
   ],
   "source": [
    "def fact(n):\n",
    "    if(n == 0 or n == 1):\n",
    "        return 1\n",
    "    else:\n",
    "        return n * fact(n-1)\n",
    "\n",
    "fact(4)"
   ]
  },
  {
   "cell_type": "code",
   "execution_count": 39,
   "id": "1304a995",
   "metadata": {},
   "outputs": [
    {
     "data": {
      "text/plain": [
       "15"
      ]
     },
     "execution_count": 39,
     "metadata": {},
     "output_type": "execute_result"
    }
   ],
   "source": [
    "def nat_sum(n):\n",
    "    if(n==0):\n",
    "        return 0\n",
    "    return nat_sum(n-1) + n\n",
    "    \n",
    "nat_sum(5)"
   ]
  },
  {
   "cell_type": "code",
   "execution_count": 41,
   "id": "cbfd63b9",
   "metadata": {},
   "outputs": [],
   "source": [
    "def print_list(list,idx=0):\n",
    "    if(idx == len(list)):\n",
    "        return\n",
    "    print(list[idx])\n",
    "    print_list(list, idx+1)\n",
    "    "
   ]
  },
  {
   "cell_type": "code",
   "execution_count": 42,
   "id": "17e9833f",
   "metadata": {},
   "outputs": [
    {
     "name": "stdout",
     "output_type": "stream",
     "text": [
      "Apple\n",
      "Mango\n",
      "Peach\n",
      "Watermelon\n"
     ]
    }
   ],
   "source": [
    "fruits = [\"Apple\", \"Mango\", \"Peach\", \"Watermelon\"]\n",
    "\n",
    "print_list(fruits)"
   ]
  }
 ],
 "metadata": {
  "kernelspec": {
   "display_name": "Python 3 (ipykernel)",
   "language": "python",
   "name": "python3"
  },
  "language_info": {
   "codemirror_mode": {
    "name": "ipython",
    "version": 3
   },
   "file_extension": ".py",
   "mimetype": "text/x-python",
   "name": "python",
   "nbconvert_exporter": "python",
   "pygments_lexer": "ipython3",
   "version": "3.11.5"
  }
 },
 "nbformat": 4,
 "nbformat_minor": 5
}
