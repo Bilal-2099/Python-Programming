{
 "cells": [
  {
   "cell_type": "code",
   "execution_count": 11,
   "id": "4fe4c52d",
   "metadata": {},
   "outputs": [
    {
     "name": "stdout",
     "output_type": "stream",
     "text": [
      "This Is A New LineThis Is A New Line\n",
      "<class 'str'>\n"
     ]
    }
   ],
   "source": [
    "f = open(\"Demo.txt\",\"r\")\n",
    "data = f.read()\n",
    "print(data)\n",
    "print(type(data))\n",
    "f.close()"
   ]
  },
  {
   "cell_type": "code",
   "execution_count": 12,
   "id": "6752723a",
   "metadata": {},
   "outputs": [
    {
     "name": "stdout",
     "output_type": "stream",
     "text": [
      "This Is A New LineThis Is A New Line\n",
      "\n"
     ]
    }
   ],
   "source": [
    "f = open(\"Demo.txt\",\"r\")\n",
    "line1 = f.readline()\n",
    "print(line1)\n",
    "line2 = f.readline()\n",
    "print(line2)\n",
    "\n",
    "f.close()"
   ]
  },
  {
   "cell_type": "code",
   "execution_count": 13,
   "id": "36c3da56",
   "metadata": {},
   "outputs": [],
   "source": [
    "f = open(\"Demo.txt\",\"a\")\n",
    "f.write(\"This Is A New Line\")\n",
    "f.close()"
   ]
  },
  {
   "cell_type": "code",
   "execution_count": 15,
   "id": "70daaa54",
   "metadata": {},
   "outputs": [],
   "source": [
    "f = open(\"Demo.txt\",\"w\")\n",
    "f.write(\"\\nThis Is A New Line\")\n",
    "f.close()"
   ]
  },
  {
   "cell_type": "code",
   "execution_count": 2,
   "id": "83748a07",
   "metadata": {},
   "outputs": [],
   "source": [
    "f = open(\"sample.txt\",\"a\")\n",
    "f.close()\n",
    "# f = open(\"sample.txt\",\"w\")\n",
    "# f.close()"
   ]
  },
  {
   "cell_type": "code",
   "execution_count": 6,
   "id": "19fed7af",
   "metadata": {},
   "outputs": [
    {
     "name": "stdout",
     "output_type": "stream",
     "text": [
      "his Is A New Line\n"
     ]
    }
   ],
   "source": [
    "f = open(\"demo.txt\",\"r+\")\n",
    "f.write(\"abc\")\n",
    "print(f.read())\n",
    "f.close()"
   ]
  },
  {
   "cell_type": "code",
   "execution_count": 8,
   "id": "5f5e84a8",
   "metadata": {},
   "outputs": [
    {
     "name": "stdout",
     "output_type": "stream",
     "text": [
      "\n"
     ]
    }
   ],
   "source": [
    "f = open(\"demo.txt\",\"w+\")\n",
    "print(f.read())\n",
    "f.close()"
   ]
  },
  {
   "cell_type": "code",
   "execution_count": 13,
   "id": "3ee0bdae",
   "metadata": {},
   "outputs": [],
   "source": [
    "f = open(\"demo.txt\",\"w+\")\n",
    "f.write(\"This Is New Line\")\n",
    "f.close()"
   ]
  },
  {
   "cell_type": "code",
   "execution_count": 16,
   "id": "d1ed418b",
   "metadata": {},
   "outputs": [
    {
     "name": "stdout",
     "output_type": "stream",
     "text": [
      "This Is New Line\n"
     ]
    }
   ],
   "source": [
    "with open(\"demo.txt\", \"r\") as f:\n",
    "    data = f.read()\n",
    "    print(data)"
   ]
  },
  {
   "cell_type": "code",
   "execution_count": 17,
   "id": "65b71e7e",
   "metadata": {},
   "outputs": [],
   "source": [
    "with open(\"demo.txt\", \"w\") as f:\n",
    "    f.write(\"This Is A Line\")"
   ]
  },
  {
   "cell_type": "code",
   "execution_count": 21,
   "id": "6337397d",
   "metadata": {},
   "outputs": [],
   "source": [
    "import os\n",
    "os.remove(\"sample.txt\")"
   ]
  },
  {
   "cell_type": "code",
   "execution_count": 23,
   "id": "7816f234",
   "metadata": {},
   "outputs": [],
   "source": [
    "with open(\"Practice.txt\",\"w\") as f:\n",
    "    f.write(\"Hi Everyone\\nWe Are Learning File I/O\\n\")\n",
    "    f.write(\"Using Java\\nI Can Programing In Java\")"
   ]
  },
  {
   "cell_type": "code",
   "execution_count": 24,
   "id": "b5fe1056",
   "metadata": {},
   "outputs": [
    {
     "name": "stdout",
     "output_type": "stream",
     "text": [
      "Hi Everyone\n",
      "We Are Learning File I/O\n",
      "Using Python\n",
      "I Can Programing In Python\n"
     ]
    }
   ],
   "source": [
    "with open(\"Practice.txt\",\"r\") as f:\n",
    "    data = f.read()\n",
    "    \n",
    "New_Data = data.replace(\"Java\", \"Python\")\n",
    "print(New_Data)"
   ]
  },
  {
   "cell_type": "code",
   "execution_count": 25,
   "id": "32952a10",
   "metadata": {},
   "outputs": [],
   "source": [
    "with open(\"Practice.txt\",\"w\") as f:\n",
    "    f.write(New_Data)"
   ]
  },
  {
   "cell_type": "code",
   "execution_count": 34,
   "id": "7072b7c5",
   "metadata": {},
   "outputs": [
    {
     "name": "stdout",
     "output_type": "stream",
     "text": [
      "Found\n"
     ]
    }
   ],
   "source": [
    "def check_for_word():\n",
    "    word = \"Learning\"\n",
    "    with open(\"Practice.txt\",\"r\") as f:\n",
    "        data = f.read()\n",
    "        if(data.find(word) !=  -1):\n",
    "            print(\"Found\")\n",
    "        else:\n",
    "            print(\"Not Found\")\n",
    "            \n",
    "check_for_word()"
   ]
  },
  {
   "cell_type": "code",
   "execution_count": 36,
   "id": "8343b5ce",
   "metadata": {},
   "outputs": [
    {
     "name": "stdout",
     "output_type": "stream",
     "text": [
      "2\n",
      "4\n"
     ]
    },
    {
     "data": {
      "text/plain": [
       "-1"
      ]
     },
     "execution_count": 36,
     "metadata": {},
     "output_type": "execute_result"
    }
   ],
   "source": [
    "def check_for_line():\n",
    "    word = \"Learning\"\n",
    "    Data = True\n",
    "    Line_No = 1\n",
    "    with open(\"Practice.txt\",\"r\") as f:\n",
    "        while Data:\n",
    "            Data = f.readline()\n",
    "            if(word in Data):\n",
    "                print(Line_No)\n",
    "            Line_No += 1\n",
    "            \n",
    "    return -1\n",
    "check_for_line()"
   ]
  },
  {
   "cell_type": "code",
   "execution_count": 43,
   "id": "be0bc3b8",
   "metadata": {},
   "outputs": [
    {
     "name": "stdout",
     "output_type": "stream",
     "text": [
      "4\n"
     ]
    }
   ],
   "source": [
    "count = 0\n",
    "with open(\"Numbers.txt\",\"r\") as f:\n",
    "    data = f.read()\n",
    "    \n",
    "#     num = \"\"\n",
    "#     for i in range(len(data)):\n",
    "#         if(data[i] == \",\"):\n",
    "#             print(int(num))\n",
    "#             num = \"\"\n",
    "#         else:\n",
    "#             num += data[i]\n",
    "\n",
    "    nums = data.split(\",\")\n",
    "    for val in nums:\n",
    "        if(int(val) % 2 ==0):\n",
    "            count += 1\n",
    "\n",
    "print(count)"
   ]
  },
  {
   "cell_type": "code",
   "execution_count": null,
   "id": "b3723d03",
   "metadata": {},
   "outputs": [],
   "source": []
  }
 ],
 "metadata": {
  "kernelspec": {
   "display_name": "Python 3 (ipykernel)",
   "language": "python",
   "name": "python3"
  },
  "language_info": {
   "codemirror_mode": {
    "name": "ipython",
    "version": 3
   },
   "file_extension": ".py",
   "mimetype": "text/x-python",
   "name": "python",
   "nbconvert_exporter": "python",
   "pygments_lexer": "ipython3",
   "version": "3.11.5"
  }
 },
 "nbformat": 4,
 "nbformat_minor": 5
}
