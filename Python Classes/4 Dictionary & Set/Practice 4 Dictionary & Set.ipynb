{
 "cells": [
  {
   "cell_type": "code",
   "execution_count": 3,
   "id": "4a71b58f",
   "metadata": {},
   "outputs": [],
   "source": [
    "Info = {\n",
    "    \"name\" : \"Bilal\",\n",
    "    \"Age\" : 17,\n",
    "    \"Marks\" : [98, 97, 95],\n",
    "}"
   ]
  },
  {
   "cell_type": "code",
   "execution_count": 4,
   "id": "a15882bb",
   "metadata": {},
   "outputs": [
    {
     "name": "stdout",
     "output_type": "stream",
     "text": [
      "Bilal\n",
      "17\n",
      "[98, 97, 95]\n"
     ]
    }
   ],
   "source": [
    "print(Info[\"name\"])\n",
    "print(Info[\"Age\"])\n",
    "print(Info[\"Marks\"])"
   ]
  },
  {
   "cell_type": "code",
   "execution_count": 5,
   "id": "5d8cd486",
   "metadata": {},
   "outputs": [
    {
     "name": "stdout",
     "output_type": "stream",
     "text": [
      "{'Name': 'Soul Knight', 'Subjects': ['Python', 'CSS', 'HTML', 'Javascript'], 'Age': 17, 'Adult': False}\n",
      "<class 'dict'>\n"
     ]
    }
   ],
   "source": [
    "Info1 = {\n",
    "    \"Name\" : \"Soul Knight\",\n",
    "    \"Subjects\" : [\"Python\", \"CSS\", \"HTML\", \"Javascript\"],\n",
    "    \"Age\" : 17,\n",
    "    \"Adult\" : False,\n",
    "}\n",
    "print(Info1)\n",
    "print(type(Info1))\n"
   ]
  },
  {
   "cell_type": "code",
   "execution_count": 6,
   "id": "1152d79e",
   "metadata": {},
   "outputs": [
    {
     "name": "stdout",
     "output_type": "stream",
     "text": [
      "Soul Knight\n",
      "17\n",
      "False\n",
      "['Python', 'CSS', 'HTML', 'Javascript']\n"
     ]
    }
   ],
   "source": [
    "print(Info1[\"Name\"])\n",
    "print(Info1[\"Age\"])\n",
    "print(Info1[\"Adult\"])\n",
    "print(Info1[\"Subjects\"])"
   ]
  },
  {
   "cell_type": "code",
   "execution_count": 7,
   "id": "824d2210",
   "metadata": {},
   "outputs": [
    {
     "name": "stdout",
     "output_type": "stream",
     "text": [
      "Soul Hunter\n"
     ]
    }
   ],
   "source": [
    "Info1[\"Name\"] = \"Soul Hunter\"\n",
    "print(Info1[\"Name\"])"
   ]
  },
  {
   "cell_type": "code",
   "execution_count": 8,
   "id": "31d66fa1",
   "metadata": {},
   "outputs": [
    {
     "name": "stdout",
     "output_type": "stream",
     "text": [
      "{}\n",
      "{'Name': 'Bilal'}\n"
     ]
    }
   ],
   "source": [
    "null_dict = {}\n",
    "print(null_dict)\n",
    "null_dict[\"Name\"] = \"Bilal\"\n",
    "print(null_dict)"
   ]
  },
  {
   "cell_type": "code",
   "execution_count": 7,
   "id": "20d90dea",
   "metadata": {},
   "outputs": [
    {
     "name": "stdout",
     "output_type": "stream",
     "text": [
      "{'Name': 'Bilal', 'Subject': {'Eng': 90, 'Math': 80, 'Urdu': 60}, 'Adult': False}\n",
      "{'Eng': 90, 'Math': 80, 'Urdu': 60}\n",
      "80\n"
     ]
    }
   ],
   "source": [
    "student = {\n",
    "    \"Name\" : \"Bilal\",\n",
    "    \"Subject\" : {\n",
    "        \"Eng\" : 90,\n",
    "        \"Math\" : 80,\n",
    "        \"Urdu\" : 60,\n",
    "    },\n",
    "    \"Adult\" : False\n",
    "}\n",
    "print(student)\n",
    "print(student[\"Subject\"])\n",
    "print(student[\"Subject\"][\"Math\"])"
   ]
  },
  {
   "cell_type": "code",
   "execution_count": 8,
   "id": "e4257bc9",
   "metadata": {},
   "outputs": [
    {
     "name": "stdout",
     "output_type": "stream",
     "text": [
      "3\n"
     ]
    }
   ],
   "source": [
    "print(len(student))"
   ]
  },
  {
   "cell_type": "code",
   "execution_count": 9,
   "id": "60fcf7da",
   "metadata": {},
   "outputs": [
    {
     "name": "stdout",
     "output_type": "stream",
     "text": [
      "dict_keys(['Name', 'Subject', 'Adult'])\n"
     ]
    }
   ],
   "source": [
    "print(student.keys())"
   ]
  },
  {
   "cell_type": "code",
   "execution_count": 10,
   "id": "8fdeb005",
   "metadata": {},
   "outputs": [
    {
     "name": "stdout",
     "output_type": "stream",
     "text": [
      "dict_values(['Bilal', {'Eng': 90, 'Math': 80, 'Urdu': 60}, False])\n"
     ]
    }
   ],
   "source": [
    "print(student.values())"
   ]
  },
  {
   "cell_type": "code",
   "execution_count": 11,
   "id": "aadf8a79",
   "metadata": {},
   "outputs": [
    {
     "name": "stdout",
     "output_type": "stream",
     "text": [
      "dict_items([('Name', 'Bilal'), ('Subject', {'Eng': 90, 'Math': 80, 'Urdu': 60}), ('Adult', False)])\n"
     ]
    }
   ],
   "source": [
    "print(student.items())"
   ]
  },
  {
   "cell_type": "code",
   "execution_count": 12,
   "id": "66f3252e",
   "metadata": {},
   "outputs": [
    {
     "name": "stdout",
     "output_type": "stream",
     "text": [
      "False\n"
     ]
    }
   ],
   "source": [
    "print(student.get(\"Adult\"))"
   ]
  },
  {
   "cell_type": "code",
   "execution_count": 15,
   "id": "f3dd6629",
   "metadata": {},
   "outputs": [
    {
     "name": "stdout",
     "output_type": "stream",
     "text": [
      "Karachi\n"
     ]
    }
   ],
   "source": [
    "student.update ({\"City\" : \"Karachi\"})\n",
    "print(student[\"City\"])"
   ]
  },
  {
   "cell_type": "code",
   "execution_count": 14,
   "id": "d8510711",
   "metadata": {},
   "outputs": [
    {
     "name": "stdout",
     "output_type": "stream",
     "text": [
      "['Name', 'Subject', 'Adult', 'City']\n"
     ]
    }
   ],
   "source": [
    "print(list(student))"
   ]
  },
  {
   "cell_type": "code",
   "execution_count": 18,
   "id": "86490bc8",
   "metadata": {},
   "outputs": [
    {
     "name": "stdout",
     "output_type": "stream",
     "text": [
      "{1, 2, 3, 4}\n",
      "<class 'set'>\n",
      "{1, 2}\n",
      "2\n"
     ]
    }
   ],
   "source": [
    "nums = {1,2,3,4}\n",
    "sett = {1,2,2,2}\n",
    "print(nums)\n",
    "print(type(nums))\n",
    "print(sett)\n",
    "print(len(sett))"
   ]
  },
  {
   "cell_type": "code",
   "execution_count": 65,
   "id": "cf4b5902",
   "metadata": {},
   "outputs": [
    {
     "name": "stdout",
     "output_type": "stream",
     "text": [
      "{1, 2, 3, 4, 5}\n",
      "{1, 2, 3, 4, 5, 6}\n",
      "{1, 2, 3, 4, 6}\n",
      "{2, 3, 4, 6}\n",
      "{2, 3, 4, 6, 7, 8, 9}\n",
      "{2, 3, 4}\n",
      "set()\n"
     ]
    }
   ],
   "source": [
    "set1 = {1,2,3,4,5,2,3,4}\n",
    "print(set1)\n",
    "set1.add(6)\n",
    "print(set1)\n",
    "set1.remove(5)\n",
    "print(set1)\n",
    "set1.pop()\n",
    "print(set1)\n",
    "set2 = {2,3,7,8,9,4}\n",
    "print(set1.union(set2))\n",
    "print(set1.intersection(set2))\n",
    "set1.clear()\n",
    "print(set1)"
   ]
  },
  {
   "cell_type": "code",
   "execution_count": 2,
   "id": "6680f32d",
   "metadata": {},
   "outputs": [
    {
     "name": "stdout",
     "output_type": "stream",
     "text": [
      "{'table': ['a piece of furniture', 'list of facts & figures'], 'cat': 'a small animal'}\n"
     ]
    }
   ],
   "source": [
    "dict1 = {\n",
    "    \"table\" : [\"a piece of furniture\" , \"list of facts & figures\"],\n",
    "    \"cat\" : \"a small animal\",\n",
    "}\n",
    "print(dict1)"
   ]
  },
  {
   "cell_type": "code",
   "execution_count": 5,
   "id": "c29263ff",
   "metadata": {},
   "outputs": [
    {
     "name": "stdout",
     "output_type": "stream",
     "text": [
      "{'C', 'javascript', 'python', 'C++', 'java'}\n",
      "5\n"
     ]
    }
   ],
   "source": [
    "Class_set = {\"python\" ,\"java\" ,\"C++\" ,\"python\" ,\"javascript\" ,\"java\" ,\"python\" ,\"java\" ,\"C++\" ,\"C\"}\n",
    "print(Class_set)\n",
    "print(len(Class_set))"
   ]
  },
  {
   "cell_type": "code",
   "execution_count": 6,
   "id": "6fb6192d",
   "metadata": {},
   "outputs": [
    {
     "name": "stdout",
     "output_type": "stream",
     "text": [
      "Enter Your English Marks23\n",
      "Enter Your Urdu Marks23\n",
      "Enter Your Math Marks23\n",
      "{'English': 23, 'Urdu': 23, 'Math': 23}\n"
     ]
    }
   ],
   "source": [
    "english_num = int(input(\"Enter Your English Marks\"))\n",
    "urdu_num = int(input(\"Enter Your Urdu Marks\"))\n",
    "math_num = int(input(\"Enter Your Math Marks\"))\n",
    "\n",
    "Result_Dict = {\n",
    "    \"English\" : english_num,\n",
    "    \"Urdu\" : urdu_num,\n",
    "    \"Math\" : math_num,\n",
    "}\n",
    "print(Result_Dict)"
   ]
  },
  {
   "cell_type": "code",
   "execution_count": 8,
   "id": "70c1d110",
   "metadata": {},
   "outputs": [
    {
     "name": "stdout",
     "output_type": "stream",
     "text": [
      "Enter Your English Marks12\n",
      "Enter Your Urdu Marks12\n",
      "Enter Your Math Marks12\n",
      "{'English': 12, 'Urdu': 12, 'Math': 12}\n"
     ]
    }
   ],
   "source": [
    "result_dict = {}\n",
    "english_num = int(input(\"Enter Your English Marks\"))\n",
    "result_dict.update({\"English\" : english_num})\n",
    "urdu_num = int(input(\"Enter Your Urdu Marks\"))\n",
    "result_dict.update({\"Urdu\" : urdu_num})\n",
    "math_num = int(input(\"Enter Your Math Marks\"))\n",
    "result_dict.update({\"Math\" : math_num})\n",
    "\n",
    "print(result_dict)"
   ]
  },
  {
   "cell_type": "code",
   "execution_count": 13,
   "id": "2cb9844e",
   "metadata": {},
   "outputs": [
    {
     "name": "stdout",
     "output_type": "stream",
     "text": [
      "{'9.0', 9}\n",
      "{('float', 9.0), ('int', 9)}\n"
     ]
    }
   ],
   "source": [
    "values ={9,\"9.0\"}\n",
    "values1 ={\n",
    "    (\"float\", 9.0),\n",
    "    (\"int\", 9)\n",
    "}\n",
    "print(values)\n",
    "print(values1)"
   ]
  },
  {
   "cell_type": "code",
   "execution_count": null,
   "id": "7c18b90d",
   "metadata": {},
   "outputs": [],
   "source": []
  }
 ],
 "metadata": {
  "kernelspec": {
   "display_name": "Python 3 (ipykernel)",
   "language": "python",
   "name": "python3"
  },
  "language_info": {
   "codemirror_mode": {
    "name": "ipython",
    "version": 3
   },
   "file_extension": ".py",
   "mimetype": "text/x-python",
   "name": "python",
   "nbconvert_exporter": "python",
   "pygments_lexer": "ipython3",
   "version": "3.11.5"
  }
 },
 "nbformat": 4,
 "nbformat_minor": 5
}
