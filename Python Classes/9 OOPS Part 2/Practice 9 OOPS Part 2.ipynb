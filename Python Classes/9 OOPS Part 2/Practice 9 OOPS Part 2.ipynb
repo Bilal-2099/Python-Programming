{
 "cells": [
  {
   "cell_type": "code",
   "execution_count": 13,
   "id": "1dcdea0b",
   "metadata": {},
   "outputs": [
    {
     "name": "stdout",
     "output_type": "stream",
     "text": [
      "2006\n",
      "420\n",
      "None\n"
     ]
    }
   ],
   "source": [
    "class Account:\n",
    "    def __init__(self, acc_no, acc_pass):\n",
    "        self.acc_no = acc_no\n",
    "        self.__acc_pass = acc_pass\n",
    "        \n",
    "    def reset_pass(self):\n",
    "        print(self.__acc_pass)\n",
    "        \n",
    "        \n",
    "acc1 = Account(\"2006\", \"420\")\n",
    "\n",
    "print(acc1.acc_no)\n",
    "print(acc1.reset_pass())"
   ]
  },
  {
   "cell_type": "code",
   "execution_count": 16,
   "id": "4df984a1",
   "metadata": {},
   "outputs": [
    {
     "name": "stdout",
     "output_type": "stream",
     "text": [
      "hello person!\n",
      "None\n"
     ]
    }
   ],
   "source": [
    "class Person:\n",
    "    __name = \"Anonymous\"\n",
    "    \n",
    "    def __hello(self):\n",
    "        print(\"hello person!\")\n",
    "        \n",
    "    def welcome(self):\n",
    "        self.__hello()\n",
    "        \n",
    "p1 = Person()\n",
    "\n",
    "print(p1.welcome())"
   ]
  },
  {
   "cell_type": "code",
   "execution_count": 28,
   "id": "8ca17059",
   "metadata": {},
   "outputs": [
    {
     "name": "stdout",
     "output_type": "stream",
     "text": [
      "Car Started\n"
     ]
    }
   ],
   "source": [
    "class Car:\n",
    "    @staticmethod\n",
    "    def start():\n",
    "        print(\"Car Started\")\n",
    "        \n",
    "    @staticmethod\n",
    "    def stop():\n",
    "        print(\"Car Stopped\")\n",
    "        \n",
    "class ToyotaCar(Car):\n",
    "    def __init__(self, brand):\n",
    "        self.brand = brand\n",
    "        \n",
    "# car1 = ToyotaCar(\"Fortuner\")\n",
    "# car2 = ToyotaCar(\"Prius\")\n",
    "\n",
    "# print(car1.brand)\n",
    "# print(car1.start())\n",
    "\n",
    "class Fortuner(ToyotaCar):\n",
    "    def __init__(self, type):\n",
    "        self.type = type\n",
    "        \n",
    "car1 = Fortuner(\"Diseal\")\n",
    "car1.start()"
   ]
  },
  {
   "cell_type": "code",
   "execution_count": 31,
   "id": "e7511ccd",
   "metadata": {},
   "outputs": [
    {
     "name": "stdout",
     "output_type": "stream",
     "text": [
      "Welcome To Class C\n",
      "Welcome to Class B\n",
      "Welcome To Class A\n"
     ]
    }
   ],
   "source": [
    "class A:\n",
    "    varA = \"Welcome To Class A\"\n",
    "    \n",
    "class B:\n",
    "    varB = \"Welcome to Class B\"\n",
    "    \n",
    "class C(A, B):\n",
    "    varC = \"Welcome To Class C\"\n",
    "    \n",
    "c1 = C()\n",
    "\n",
    "print(c1.varC)\n",
    "print(c1.varB)\n",
    "print(c1.varA)"
   ]
  },
  {
   "cell_type": "code",
   "execution_count": 34,
   "id": "84cca199",
   "metadata": {},
   "outputs": [
    {
     "name": "stdout",
     "output_type": "stream",
     "text": [
      "Car Started\n",
      "Electric\n"
     ]
    }
   ],
   "source": [
    "class Car:\n",
    "    def __init__(self, type):\n",
    "        self.type = type\n",
    "        \n",
    "    @staticmethod\n",
    "    def start():\n",
    "        print(\"Car Started\")\n",
    "        \n",
    "    @staticmethod\n",
    "    def stop():\n",
    "        print(\"Car Stopped\")\n",
    "        \n",
    "class ToyotaCar(Car):\n",
    "    def __init__(self, name, type):\n",
    "        self.name = name\n",
    "        super().__init__(type)\n",
    "        super().start()\n",
    "        \n",
    "car1 = ToyotaCar(\"Prious\", \"Electric\")\n",
    "print(car1.type)"
   ]
  },
  {
   "cell_type": "code",
   "execution_count": 5,
   "id": "8118fef7",
   "metadata": {},
   "outputs": [
    {
     "name": "stdout",
     "output_type": "stream",
     "text": [
      "Bilal Raza\n",
      "Bilal Raza\n"
     ]
    }
   ],
   "source": [
    "class Person:\n",
    "    name = \"Unknown\"\n",
    "    \n",
    "    @classmethod\n",
    "    def changeName(cls, name):\n",
    "        cls.name = name\n",
    "        \n",
    "#     def changeName(self, name):\n",
    "#         self.__class__.name = \"Bilal\"\n",
    "#           Person.name = name\n",
    "        \n",
    "p1 = Person()\n",
    "p1.changeName(\"Bilal Raza\")\n",
    "print(p1.name)\n",
    "print(Person.name)"
   ]
  },
  {
   "cell_type": "code",
   "execution_count": 12,
   "id": "3c6916fd",
   "metadata": {},
   "outputs": [
    {
     "name": "stdout",
     "output_type": "stream",
     "text": [
      "95.0%\n",
      "89.0%\n"
     ]
    }
   ],
   "source": [
    "class Student:\n",
    "    def __init__(self, phy, chem, math):\n",
    "        self.phy = phy\n",
    "        self.chem = chem\n",
    "        self.math = math\n",
    "#         self.percentage = str((self.phy + self.chem + self.math) / 3) + \"%\"\n",
    "      \n",
    "#     def calcPercentage(self):\n",
    "#         self.percentage = str((self.phy + self.chem + self.math) / 3) + \"%\"\n",
    "    @property\n",
    "    def percentage(self):\n",
    "        return str((self.phy + self.chem + self.math) / 3) + \"%\"\n",
    "    \n",
    "    \n",
    "stu1 = Student(98, 97, 90)\n",
    "print(stu1.percentage)\n",
    "\n",
    "stu1.phy = 80\n",
    "print(stu1.percentage)\n"
   ]
  },
  {
   "cell_type": "code",
   "execution_count": 19,
   "id": "60955f04",
   "metadata": {},
   "outputs": [
    {
     "name": "stdout",
     "output_type": "stream",
     "text": [
      "3\n",
      "<class 'int'>\n",
      "HelloWorld\n",
      "<class 'str'>\n",
      "[1, 2, 3, 4, 5, 6]\n",
      "<class 'list'>\n"
     ]
    }
   ],
   "source": [
    "print(1 + 2)\n",
    "print(type(1))\n",
    "print(\"Hello\"+\"World\") #concatenate\n",
    "print(type(\"Hello\"))\n",
    "print([1, 2, 3]+[4, 5, 6]) #merge\n",
    "print(type([1, 2, 3]))"
   ]
  },
  {
   "cell_type": "code",
   "execution_count": 26,
   "id": "5eaf6fce",
   "metadata": {},
   "outputs": [
    {
     "name": "stdout",
     "output_type": "stream",
     "text": [
      "1 i + 3 j\n",
      "4 i + 3 j\n",
      "5 i + 6 j\n",
      "-3 i + 0 j\n"
     ]
    }
   ],
   "source": [
    "class Complex:\n",
    "    def __init__(self, real, img):\n",
    "        self.real = real\n",
    "        self.img = img\n",
    "        \n",
    "    def ShowNumber(self):\n",
    "        print(self.real,\"i +\", self.img,\"j\")\n",
    "        \n",
    "    def __add__(self, num2):\n",
    "        NewReal = self.real + num2.real\n",
    "        NewImg = self.img + num2.img\n",
    "        return Complex(NewReal, NewImg)\n",
    "    \n",
    "    def __sub__(self, num2):\n",
    "        NewReal = self.real - num2.real\n",
    "        NewImg = self.img - num2.img\n",
    "        return Complex(NewReal, NewImg)\n",
    "    \n",
    "    \n",
    "num1 = Complex(1, 3)\n",
    "num1.ShowNumber()\n",
    "\n",
    "num2 = Complex(4, 3)\n",
    "num2.ShowNumber()\n",
    "\n",
    "# num3 = num1.add(num2)\n",
    "num3 = num1 + num2\n",
    "num3.ShowNumber()\n",
    "\n",
    "num4 = num1 - num2\n",
    "num4.ShowNumber()"
   ]
  },
  {
   "cell_type": "code",
   "execution_count": 29,
   "id": "7c054db9",
   "metadata": {},
   "outputs": [
    {
     "name": "stdout",
     "output_type": "stream",
     "text": [
      "1386.0\n",
      "132.0\n"
     ]
    }
   ],
   "source": [
    "class Circle:\n",
    "    def __init__(self, radius):\n",
    "        self.radius = radius\n",
    "        \n",
    "    def area(self):\n",
    "        return (22/7) * self.radius ** 2\n",
    "    \n",
    "    def perimeter(self):\n",
    "        return 2 * (22/7) * self.radius\n",
    "        \n",
    "c1 = Circle(21)\n",
    "print(c1.area())\n",
    "print(c1.perimeter())\n"
   ]
  },
  {
   "cell_type": "code",
   "execution_count": 31,
   "id": "602e50fa",
   "metadata": {},
   "outputs": [
    {
     "name": "stdout",
     "output_type": "stream",
     "text": [
      "Role = Accountant\n",
      "Department = Finance\n",
      "salary = 60,000\n",
      "Role = Engineer\n",
      "Department = IT\n",
      "salary = 75,000\n"
     ]
    }
   ],
   "source": [
    "class Employee:\n",
    "    def __init__(self, role, dept, salary):\n",
    "        self.role = role\n",
    "        self.dept = dept\n",
    "        self.salary = salary\n",
    "        \n",
    "    def ShowDetails(self):\n",
    "        print(\"Role =\", self.role)\n",
    "        print(\"Department =\", self.dept)\n",
    "        print(\"salary =\", self.salary)\n",
    "        \n",
    "class Engineer(Employee):\n",
    "    def __init__(self, name, age):\n",
    "        self.name = name\n",
    "        self.age = age\n",
    "        super().__init__(\"Engineer\", \"IT\", \"75,000\")\n",
    "        \n",
    "e1 = Employee(\"Accountant\", \"Finance\", \"60,000\")\n",
    "e1.ShowDetails()\n",
    "\n",
    "engg1 = Engineer(\"Elon Musk\", 40)\n",
    "engg1.ShowDetails()"
   ]
  },
  {
   "cell_type": "code",
   "execution_count": 35,
   "id": "5ab23cc7",
   "metadata": {},
   "outputs": [
    {
     "name": "stdout",
     "output_type": "stream",
     "text": [
      "True\n"
     ]
    }
   ],
   "source": [
    "class Order:\n",
    "    def __init__(self, item, price):\n",
    "        self.item = item\n",
    "        self.price = price\n",
    "        \n",
    "    def __gt__(self, odr2):\n",
    "        return self.price > odr2.price\n",
    "        \n",
    "ordr1 = Order(\"Chips\", 20)\n",
    "ordr2 = Order(\"tea\", 15)\n",
    "\n",
    "print(ordr1 > ordr2)"
   ]
  }
 ],
 "metadata": {
  "kernelspec": {
   "display_name": "Python 3 (ipykernel)",
   "language": "python",
   "name": "python3"
  },
  "language_info": {
   "codemirror_mode": {
    "name": "ipython",
    "version": 3
   },
   "file_extension": ".py",
   "mimetype": "text/x-python",
   "name": "python",
   "nbconvert_exporter": "python",
   "pygments_lexer": "ipython3",
   "version": "3.11.5"
  }
 },
 "nbformat": 4,
 "nbformat_minor": 5
}
