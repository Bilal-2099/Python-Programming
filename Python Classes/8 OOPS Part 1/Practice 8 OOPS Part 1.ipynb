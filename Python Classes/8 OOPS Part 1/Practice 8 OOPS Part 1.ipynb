{
 "cells": [
  {
   "cell_type": "code",
   "execution_count": 6,
   "id": "5d26677a",
   "metadata": {},
   "outputs": [
    {
     "name": "stdout",
     "output_type": "stream",
     "text": [
      "Bilal\n"
     ]
    }
   ],
   "source": [
    "class Student:\n",
    "    name = \"Bilal\"\n",
    "\n",
    "s1 = Student()\n",
    "print(s1.name)"
   ]
  },
  {
   "cell_type": "code",
   "execution_count": 3,
   "id": "0b771e33",
   "metadata": {},
   "outputs": [
    {
     "name": "stdout",
     "output_type": "stream",
     "text": [
      "Blue\n",
      "Ferrari\n"
     ]
    }
   ],
   "source": [
    "class Car:\n",
    "    color = \"Blue\"\n",
    "    brand = \"Ferrari\"\n",
    "    \n",
    "car1 = Car()\n",
    "print(car1.color)\n",
    "print(car1.brand)"
   ]
  },
  {
   "cell_type": "code",
   "execution_count": 19,
   "id": "685df937",
   "metadata": {},
   "outputs": [
    {
     "name": "stdout",
     "output_type": "stream",
     "text": [
      "Adding New Student In Database\n",
      "Bilal 97\n",
      "Adding New Student In Database\n",
      "Ali 88\n",
      "LEDUKE College\n",
      "Welcome Student, Bilal\n",
      "97\n"
     ]
    }
   ],
   "source": [
    "class Student:\n",
    "    \n",
    "#     #default constructors\n",
    "#     def __init__(self):\n",
    "#         pass\n",
    "    \n",
    "    #parameteried constructors\n",
    "    college_name = \"LEDUKE College\"\n",
    "    name = \"anonymous\"\n",
    "    def __init__(self, name, marks):\n",
    "        self.name = name\n",
    "        self.marks = marks\n",
    "        print(\"Adding New Student In Database\")\n",
    "        \n",
    "    def welcome(self):\n",
    "        print(\"Welcome Student,\", self.name)\n",
    "        \n",
    "    def get_marks(self):\n",
    "        return self.marks\n",
    "\n",
    "\n",
    "s1 = Student(\"Bilal\", 97)\n",
    "print(s1.name, s1.marks)\n",
    "\n",
    "s2 = Student(\"Ali\", 88)\n",
    "print(s2.name, s2.marks)\n",
    "\n",
    "print(Student.college_name)\n",
    "s1.welcome()\n",
    "\n",
    "print(s1.get_marks())"
   ]
  },
  {
   "cell_type": "code",
   "execution_count": 24,
   "id": "12cd150a",
   "metadata": {},
   "outputs": [
    {
     "name": "stdout",
     "output_type": "stream",
     "text": [
      "Hello\n",
      "Hi Bilal Raza Your Avg Score Is 97.33333333333333\n",
      "Hi Soul Knight Your Avg Score Is 97.33333333333333\n"
     ]
    }
   ],
   "source": [
    "class School:\n",
    "    \n",
    "    @staticmethod\n",
    "    def hello():\n",
    "        print(\"Hello\")\n",
    "    def __init__(self, name, marks):\n",
    "        self.name = name\n",
    "        self.marks = marks\n",
    "        \n",
    "    def get_avg(self):\n",
    "        sum = 0\n",
    "        for val in self.marks:\n",
    "            sum += val\n",
    "        print(\"Hi\", self.name, \"Your Avg Score Is\", sum/3)\n",
    "        \n",
    "s1.hello()\n",
    "s1 = School(\"Bilal Raza\", [99, 97, 96])\n",
    "\n",
    "s1.get_avg()\n",
    "\n",
    "s1.name = \"Soul Knight\"\n",
    "s1.get_avg()"
   ]
  },
  {
   "cell_type": "code",
   "execution_count": 29,
   "id": "978b5716",
   "metadata": {},
   "outputs": [
    {
     "name": "stdout",
     "output_type": "stream",
     "text": [
      "Car Started\n"
     ]
    }
   ],
   "source": [
    "class Car:\n",
    "    def __init__(self):\n",
    "        self.acc = False\n",
    "        self.brk = False\n",
    "        self.clutch = False\n",
    "        \n",
    "    def start(self):\n",
    "        self.clutch = True\n",
    "        self.acc = True\n",
    "        print(\"Car Started\")\n",
    "        \n",
    "car1 = Car()\n",
    "car1.start()"
   ]
  },
  {
   "cell_type": "code",
   "execution_count": 46,
   "id": "8658f949",
   "metadata": {},
   "outputs": [
    {
     "name": "stdout",
     "output_type": "stream",
     "text": [
      "Rs 1000 was debited\n",
      "Total Balance 0\n",
      "Rs 500 was credited\n",
      "Total Balance 500\n"
     ]
    }
   ],
   "source": [
    "class Account:\n",
    "    def __init__(self, bal, acc):\n",
    "        self.balance = bal\n",
    "        self.account_no = acc\n",
    "        \n",
    "    #Debit Method\n",
    "    def debit(self, amount):\n",
    "        self.balance -= amount\n",
    "        print(\"Rs\", amount, \"was debited\")\n",
    "        print(\"Total Balance\", self.get_balance())\n",
    "        \n",
    "    #Credit Method\n",
    "    def credit(self, amount):\n",
    "        self.balance += amount\n",
    "        print(\"Rs\", amount, \"was credited\")\n",
    "        print(\"Total Balance\", self.get_balance())\n",
    "        \n",
    "    def get_balance(self):\n",
    "        return self.balance\n",
    "        \n",
    "acc1 = Account(1000, 2006)\n",
    "acc1.debit(1000)\n",
    "acc1.credit(500)"
   ]
  },
  {
   "cell_type": "code",
   "execution_count": null,
   "id": "3b6779e9",
   "metadata": {},
   "outputs": [],
   "source": []
  }
 ],
 "metadata": {
  "kernelspec": {
   "display_name": "Python 3 (ipykernel)",
   "language": "python",
   "name": "python3"
  },
  "language_info": {
   "codemirror_mode": {
    "name": "ipython",
    "version": 3
   },
   "file_extension": ".py",
   "mimetype": "text/x-python",
   "name": "python",
   "nbconvert_exporter": "python",
   "pygments_lexer": "ipython3",
   "version": "3.11.5"
  }
 },
 "nbformat": 4,
 "nbformat_minor": 5
}
