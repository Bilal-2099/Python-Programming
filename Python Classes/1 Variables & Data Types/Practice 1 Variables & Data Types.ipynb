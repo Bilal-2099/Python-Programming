{
 "cells": [
  {
   "cell_type": "code",
   "execution_count": 1,
   "id": "fed8369b",
   "metadata": {},
   "outputs": [
    {
     "name": "stdout",
     "output_type": "stream",
     "text": [
      "Hello World\n"
     ]
    }
   ],
   "source": [
    "print(\"Hello World\")"
   ]
  },
  {
   "cell_type": "code",
   "execution_count": 3,
   "id": "54116849",
   "metadata": {},
   "outputs": [
    {
     "name": "stdout",
     "output_type": "stream",
     "text": [
      "Bilal Nadeem\n"
     ]
    }
   ],
   "source": [
    "name = \"Bilal\"\n",
    "Father_Name = \"Nadeem\"\n",
    "Full_name = (name + \" \" + Father_Name)\n",
    "print(Full_name)"
   ]
  },
  {
   "cell_type": "code",
   "execution_count": 5,
   "id": "e168d140",
   "metadata": {},
   "outputs": [
    {
     "name": "stdout",
     "output_type": "stream",
     "text": [
      "14\n",
      "6\n",
      "2.5\n",
      "40\n",
      "2\n",
      "10000\n"
     ]
    }
   ],
   "source": [
    "num1 = 10\n",
    "num2 = 4\n",
    "print(num1 + num2)\n",
    "print(num1 - num2)\n",
    "print(num1 / num2)\n",
    "print(num1 * num2)\n",
    "print(num1 % num2)\n",
    "print(num1 ** num2)"
   ]
  },
  {
   "cell_type": "code",
   "execution_count": 2,
   "id": "101f377d",
   "metadata": {},
   "outputs": [
    {
     "name": "stdout",
     "output_type": "stream",
     "text": [
      "True\n",
      "False\n"
     ]
    }
   ],
   "source": [
    "a = 50\n",
    "b = 30\n",
    "print(not False)\n",
    "print(not (a > b))"
   ]
  },
  {
   "cell_type": "code",
   "execution_count": 3,
   "id": "8582aa4f",
   "metadata": {},
   "outputs": [
    {
     "name": "stdout",
     "output_type": "stream",
     "text": [
      "Or operator: True\n",
      "And operator: False\n"
     ]
    }
   ],
   "source": [
    "print(\"Or operator:\", (a == b) or (a > b))\n",
    "print(\"And operator:\", (a == b) and (a > b))"
   ]
  },
  {
   "cell_type": "code",
   "execution_count": 11,
   "id": "288c6cfd",
   "metadata": {},
   "outputs": [
    {
     "name": "stdout",
     "output_type": "stream",
     "text": [
      "ans operator: False\n",
      "ans operator: True\n",
      "ans operator: False\n",
      "ans operator: True\n",
      "ans operator: True\n",
      "ans operator: False\n"
     ]
    }
   ],
   "source": [
    "val1 = True\n",
    "val2 = False\n",
    "print(\"ans operator:\", val1 and val2)\n",
    "print(\"ans operator:\", val1 and val1)\n",
    "print(\"ans operator:\", val2 and val2)\n",
    "print(\"ans operator:\", val1 or val2)\n",
    "print(\"ans operator:\", val1 or val1)\n",
    "print(\"ans operator:\", val2 or val2)"
   ]
  },
  {
   "cell_type": "code",
   "execution_count": 5,
   "id": "0a692685",
   "metadata": {},
   "outputs": [
    {
     "name": "stdout",
     "output_type": "stream",
     "text": [
      "3.0\n"
     ]
    }
   ],
   "source": [
    "num3, num4 = 1,2.0\n",
    "sum1 = num3 + num4\n",
    "print(sum1)"
   ]
  },
  {
   "cell_type": "code",
   "execution_count": 8,
   "id": "ac1b115b",
   "metadata": {},
   "outputs": [
    {
     "name": "stdout",
     "output_type": "stream",
     "text": [
      "3\n"
     ]
    }
   ],
   "source": [
    "num5, num6 = 1,\"2\"\n",
    "num7 = int(num6)\n",
    "sum2 = num5 + num7\n",
    "print(sum2)"
   ]
  },
  {
   "cell_type": "code",
   "execution_count": 10,
   "id": "9ed226ef",
   "metadata": {},
   "outputs": [
    {
     "name": "stdout",
     "output_type": "stream",
     "text": [
      "Enter Your First name:Bilal\n",
      "Enter Your  Middle name:Raza\n",
      "Enter Your  Last name:Nadeem\n",
      "Bilal Raza Nadeem\n"
     ]
    }
   ],
   "source": [
    "First_Name = input(\"Enter Your First name:\")\n",
    "Middle_Name = input(\"Enter Your  Middle name:\")\n",
    "Last_Name = input(\"Enter Your  Last name:\")\n",
    "Fullname = (First_Name +  \" \" + Middle_Name + \" \" + Last_Name)\n",
    "print(Fullname)"
   ]
  },
  {
   "cell_type": "code",
   "execution_count": 11,
   "id": "811e0e55",
   "metadata": {},
   "outputs": [
    {
     "name": "stdout",
     "output_type": "stream",
     "text": [
      "Enter Your Age12\n",
      "12\n"
     ]
    }
   ],
   "source": [
    "age1 = int(input(\"Enter Your Age\"))\n",
    "print(age1)"
   ]
  },
  {
   "cell_type": "code",
   "execution_count": 12,
   "id": "112a14fa",
   "metadata": {},
   "outputs": [
    {
     "name": "stdout",
     "output_type": "stream",
     "text": [
      "Enter Your Age17\n",
      "Your age after 3 year 20\n"
     ]
    }
   ],
   "source": [
    "age2 = int(input(\"Enter Your Age\"))\n",
    "New_age = (age2 + 3)\n",
    "print(\"Your age after 3 year\", New_age)"
   ]
  },
  {
   "cell_type": "code",
   "execution_count": 7,
   "id": "8f861931",
   "metadata": {},
   "outputs": [
    {
     "name": "stdout",
     "output_type": "stream",
     "text": [
      "Enter Your Number54\n",
      "Enter Your Number Again7\n",
      "This is your number 61\n"
     ]
    }
   ],
   "source": [
    "First = int(input(\"Enter Your Number\"))\n",
    "Last = int(input(\"Enter Your Number Again\"))\n",
    "print(\"This is your number\",First + Last)"
   ]
  },
  {
   "cell_type": "code",
   "execution_count": 13,
   "id": "405f022f",
   "metadata": {},
   "outputs": [
    {
     "name": "stdout",
     "output_type": "stream",
     "text": [
      "Enter Your Side4\n",
      "Your Square Area: 16.0\n"
     ]
    }
   ],
   "source": [
    "Side = float(input(\"Enter Your Side\"))\n",
    "print(\"Your Square Area:\", Side * Side)"
   ]
  },
  {
   "cell_type": "code",
   "execution_count": 15,
   "id": "9c55cd20",
   "metadata": {},
   "outputs": [
    {
     "name": "stdout",
     "output_type": "stream",
     "text": [
      "Enter A Value in Decimal10\n",
      "Enter A Value in Decimal Again6\n",
      "Average  Of Your Value Is: 8.0\n"
     ]
    }
   ],
   "source": [
    "Float1 = float(input(\"Enter A Value in Decimal\"))\n",
    "Float2 = float(input(\"Enter A Value in Decimal Again\"))\n",
    "Average = ((Float1 + Float2) / 2)\n",
    "print(\"Average  Of Your Value Is:\", Average)"
   ]
  },
  {
   "cell_type": "code",
   "execution_count": 16,
   "id": "a27e5d3f",
   "metadata": {},
   "outputs": [
    {
     "name": "stdout",
     "output_type": "stream",
     "text": [
      "Enter a Number2\n",
      "Enter a Number Again3\n",
      "False\n"
     ]
    }
   ],
   "source": [
    "Dig1 = int(input(\"Enter a Number\"))\n",
    "Dig2 = int(input(\"Enter a Number Again\"))\n",
    "print(Dig1 >= Dig2)"
   ]
  },
  {
   "cell_type": "code",
   "execution_count": 12,
   "id": "c16c35e1",
   "metadata": {},
   "outputs": [
    {
     "name": "stdout",
     "output_type": "stream",
     "text": [
      "Enter Your NameBilal\n",
      "Enter Your F.NameNadeem\n",
      "Bilal Nadeem\n"
     ]
    }
   ],
   "source": []
  },
  {
   "cell_type": "code",
   "execution_count": null,
   "id": "64f4393b",
   "metadata": {},
   "outputs": [],
   "source": []
  }
 ],
 "metadata": {
  "kernelspec": {
   "display_name": "Python 3 (ipykernel)",
   "language": "python",
   "name": "python3"
  },
  "language_info": {
   "codemirror_mode": {
    "name": "ipython",
    "version": 3
   },
   "file_extension": ".py",
   "mimetype": "text/x-python",
   "name": "python",
   "nbconvert_exporter": "python",
   "pygments_lexer": "ipython3",
   "version": "3.11.5"
  }
 },
 "nbformat": 4,
 "nbformat_minor": 5
}
